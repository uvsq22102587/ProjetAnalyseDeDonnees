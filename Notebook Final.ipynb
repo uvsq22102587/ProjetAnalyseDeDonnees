{
 "cells": [
  {
   "cell_type": "code",
   "execution_count": null,
   "metadata": {},
   "outputs": [],
   "source": [
    "import pandas as pd\n",
    "import numpy as np\n",
    "import re as re\n",
    "from deep_translator import GoogleTranslator\n",
    "import textblob as tb"
   ]
  },
  {
   "cell_type": "markdown",
   "metadata": {},
   "source": [
    "Lecture de données JSON"
   ]
  },
  {
   "cell_type": "code",
   "execution_count": null,
   "metadata": {},
   "outputs": [],
   "source": [
    "pdTweet = pd.read_json(path_or_buf=\"versailles_tweets_100.json\")\n",
    "pdTweet"
   ]
  },
  {
   "cell_type": "markdown",
   "metadata": {},
   "source": [
    "<H3> Partie nettoyage du texte <H3/>"
   ]
  },
  {
   "cell_type": "markdown",
   "metadata": {},
   "source": [
    "Retire les retours à la ligne:"
   ]
  },
  {
   "cell_type": "code",
   "execution_count": null,
   "metadata": {},
   "outputs": [],
   "source": [
    "\n",
    "def no_retourchariot(chiffre):\n",
    "    \"\"\"Fonction qui retire les retours à la ligne du texte\"\"\"\n",
    "    patern = re.compile(\"\\n\")\n",
    "    result = patern.sub(r\"\",pdTweet[\"text\"][chiffre])\n",
    "    return result"
   ]
  },
  {
   "cell_type": "markdown",
   "metadata": {},
   "source": [
    "Extraction des tweet sans emoticônes (Expressions régulières)\n",
    "\n",
    "\n",
    "Source: https://gist.github.com/slowkow/7a7f61f495e3dbb7e3d767f97bd7304b?permalink_comment_id=3315605#gistcomment-3315605"
   ]
  },
  {
   "cell_type": "code",
   "execution_count": null,
   "metadata": {},
   "outputs": [],
   "source": [
    "\n",
    "def no_emoticone(chiffre):\n",
    "        \"\"\"fonction qui retire tout les émoticones du tweet\"\"\"\n",
    "        patern  = re.compile(\"[\"\n",
    "                        u\"\\U0001F600-\\U0001F64F\"  # emoticons\n",
    "                        u\"\\U0001F300-\\U0001F5FF\"  # symbols & pictographs\n",
    "                        u\"\\U0001F680-\\U0001F6FF\"  # transport & map symbols\n",
    "                        u\"\\U0001F1E0-\\U0001F1FF\"  # flags (iOS)\n",
    "                        u\"\\U00002500-\\U00002BEF\"  # chinese char\n",
    "                        u\"\\U00002702-\\U000027B0\"\n",
    "                        u\"\\U00002702-\\U000027B0\"\n",
    "                        u\"\\U000024C2-\\U0001F251\"\n",
    "                        u\"\\U0001f926-\\U0001f937\"\n",
    "                        u\"\\U00010000-\\U0010ffff\"\n",
    "                        u\"\\u2640-\\u2642\"\n",
    "                        u\"\\u2600-\\u2B55\"\n",
    "                        u\"\\u200d\"\n",
    "                        u\"\\u23cf\"\n",
    "                        u\"\\u23e9\"\n",
    "                        u\"\\u231a\"\n",
    "                        u\"\\ufe0f\"  # dingbats\n",
    "                        u\"\\u3030\"\n",
    "                                \"]+\", flags = re.UNICODE)\n",
    "        \n",
    "        result = patern.sub(r\"\",chiffre)\n",
    "        return result"
   ]
  },
  {
   "cell_type": "markdown",
   "metadata": {},
   "source": [
    "Retire mention du texte d'un tweet"
   ]
  },
  {
   "cell_type": "code",
   "execution_count": null,
   "metadata": {},
   "outputs": [],
   "source": [
    "def no_mention(chiffre):\n",
    "    \"\"\"Fonction qui retire les mentions du tweet\"\"\"\n",
    "    patern = re.compile(\"@\\S*\")\n",
    "    result = patern.sub(r\"\",chiffre)\n",
    "    return result"
   ]
  },
  {
   "cell_type": "markdown",
   "metadata": {},
   "source": [
    "Retire les hastags d'un tweet"
   ]
  },
  {
   "cell_type": "code",
   "execution_count": null,
   "metadata": {},
   "outputs": [],
   "source": [
    "def no_hastags(chiffre):\n",
    "    \"\"\"fonction qui retire les hastags du tweet\"\"\"\n",
    "    patern = re.compile(\"#\\S*\")\n",
    "    result = patern.sub(r\"\",chiffre)\n",
    "    return result"
   ]
  },
  {
   "cell_type": "markdown",
   "metadata": {},
   "source": [
    "Retire l'intégration d'un URL dans un tweet"
   ]
  },
  {
   "cell_type": "code",
   "execution_count": null,
   "metadata": {},
   "outputs": [],
   "source": [
    "\n",
    "def no_URL(chiffre):\n",
    "    \"\"\"fonction qui retire l'URL d'un tweet\"\"\"\n",
    "    patern = re.compile(\"https://\\S*\")\n",
    "    result = patern.sub(r\"\", chiffre)\n",
    "    return result\n"
   ]
  },
  {
   "cell_type": "markdown",
   "metadata": {},
   "source": [
    "Fonction qui nettoie le texte avec toutes les fonctions créé auparavant."
   ]
  },
  {
   "cell_type": "code",
   "execution_count": null,
   "metadata": {},
   "outputs": [],
   "source": [
    "def menage(NumeroTweet):\n",
    "    \"fonction qui applique toutes les autres fonction pour avoir un texte propre\"\n",
    "    result = no_retourchariot(NumeroTweet)\n",
    "    result = no_emoticone(result)\n",
    "    result = no_mention(result)\n",
    "    result = no_hastags(result)\n",
    "    result = no_URL(result)\n",
    "    return result"
   ]
  },
  {
   "cell_type": "code",
   "execution_count": null,
   "metadata": {},
   "outputs": [],
   "source": [
    "pdTweetFiltre = pd.DataFrame()"
   ]
  },
  {
   "cell_type": "markdown",
   "metadata": {},
   "source": [
    "Insérer le texte nettoyer des tweet dans le data Frame TweetFiltrer"
   ]
  },
  {
   "cell_type": "code",
   "execution_count": null,
   "metadata": {},
   "outputs": [],
   "source": [
    "#insertion du texte nettoyer dans le Data Frame TweetFiltrer\n",
    "list_texte = []\n",
    "for i in range(0,20):\n",
    "    texte = menage(i)\n",
    "    list_texte.append(texte)\n",
    "pdTweetFiltre[\"Texte\"] = list_texte\n",
    "pdTweetFiltre"
   ]
  },
  {
   "cell_type": "markdown",
   "metadata": {},
   "source": [
    "<H3>Partie gestion Mentions URl et Hashtags<H3/>"
   ]
  },
  {
   "cell_type": "code",
   "execution_count": null,
   "metadata": {},
   "outputs": [],
   "source": [
    "# Crée un dataFrame avec les données inscrites dans entites, en columns on a Url, Mentions et Hashtags\n",
    "pdEntities = pdTweet[\"entities\"].apply(pd.Series)\n",
    "# On supprime la column 0 qui ne contient rien.\n",
    "del pdEntities[0]\n",
    "pdEntities"
   ]
  },
  {
   "cell_type": "markdown",
   "metadata": {},
   "source": [
    "Cette cellule trie les informations stockées dans la colonnes \"Entities\" dans le dataframe initial et le stocke dans un autre dataframe."
   ]
  },
  {
   "cell_type": "code",
   "execution_count": null,
   "metadata": {},
   "outputs": [],
   "source": [
    "for columns_name in pdEntities:\n",
    "        lenSeries = len(pdEntities[columns_name])\n",
    "        lElement = []\n",
    "        if columns_name == \"hashtags\":\n",
    "                key = \"tag\"\n",
    "        elif columns_name == \"mentions\":\n",
    "                key = \"username\"\n",
    "        elif columns_name == \"urls\":\n",
    "                key = \"url\"\n",
    "        else:\n",
    "                key = None\n",
    "        for i in range(0,lenSeries):\n",
    "                lElementUnder = []\n",
    "                if type(pdEntities[columns_name][i]) == list:\n",
    "                        for j in range(0, int(len(pdEntities[columns_name][i]))):\n",
    "                                lElementUnder.append(pdEntities[columns_name][i][j].get(key))\n",
    "                else:\n",
    "                        lElementUnder.append(None)\n",
    "                lElement.append(lElementUnder)\n",
    "        lElement = pd.Series(lElement)\n",
    "        pdTweetFiltre[columns_name] = lElement\n",
    "pdTweetFiltre"
   ]
  },
  {
   "cell_type": "markdown",
   "metadata": {},
   "source": [
    "On rajoute les id des auteurs dans le dataframe"
   ]
  },
  {
   "cell_type": "code",
   "execution_count": null,
   "metadata": {},
   "outputs": [],
   "source": [
    "pdTweetFiltre[\"author\"] = pdTweet[\"author_id\"]\n",
    "pdTweetFiltre"
   ]
  },
  {
   "cell_type": "markdown",
   "metadata": {},
   "source": [
    "On fait les mêmes manipulations pour les topics."
   ]
  },
  {
   "cell_type": "code",
   "execution_count": null,
   "metadata": {},
   "outputs": [],
   "source": [
    "sTopics = []\n",
    "for ligne in pdTweet[\"context_annotations\"]:\n",
    "    sTopicsTweet = []\n",
    "    if type(ligne) == list:\n",
    "        lenSeries = len(ligne)\n",
    "        for i in range(0, lenSeries):\n",
    "            topics = ligne[i].get(\"domain\").get(\"name\")\n",
    "            if topics not in sTopicsTweet:\n",
    "                sTopicsTweet.append(topics)\n",
    "    else:\n",
    "        sTopicsTweet.append(None)\n",
    "    sTopics.append(sTopicsTweet)\n",
    "pdTweetFiltre[\"topics\"] = sTopics\n",
    "pdTweetFiltre"
   ]
  },
  {
   "attachments": {},
   "cell_type": "markdown",
   "metadata": {},
   "source": [
    "Utilisation de la libraire textBlob pour donner le sentiment (négatif ou positif) du tweet à partir de son texte.\n",
    "\n",
    "On utilise l'api de Googletranslate via la libraire deep-translate pour traduire le texte auparavant."
   ]
  },
  {
   "cell_type": "code",
   "execution_count": null,
   "metadata": {},
   "outputs": [],
   "source": [
    "def analysis_sentiment(source:pd.DataFrame):\n",
    "    translator = GoogleTranslator(target=\"en\")\n",
    "    liste_sentiment = []\n",
    "    for i in range(0, len(source[\"Texte\"])):\n",
    "        texte = source[\"Texte\"][i]\n",
    "        texte_Angl = translator.translate(texte)\n",
    "        liste_sentiment.append(tb.TextBlob(texte_Angl).sentiment[0])\n",
    "    return liste_sentiment\n",
    "\n",
    "pdTweetFiltre[\"sentiment\"] = analysis_sentiment(pdTweetFiltre)"
   ]
  },
  {
   "attachments": {},
   "cell_type": "markdown",
   "metadata": {},
   "source": [
    "Affichage des tweets d'un utilisateur :"
   ]
  },
  {
   "cell_type": "code",
   "execution_count": null,
   "metadata": {},
   "outputs": [],
   "source": [
    "def tweet_author (author):\n",
    "    \"\"\"fonction qui affiche tout les tweets d'un utilisateur donné\"\"\"\n",
    "    serie = pd.Series([author for i in range(len(pdTweetFiltre[\"author\"]))])\n",
    "    return pdTweetFiltre[pdTweetFiltre[\"author\"].isin(serie)]\n",
    "\n",
    "tweet_author(1339914264522461184)"
   ]
  },
  {
   "attachments": {},
   "cell_type": "markdown",
   "metadata": {},
   "source": [
    "Affichage de l'ensemble des tweets mentionnant un utilisateur spécifique :"
   ]
  },
  {
   "cell_type": "code",
   "execution_count": null,
   "metadata": {},
   "outputs": [],
   "source": [
    "def tweet_mention (mention):\n",
    "    \"fonction qui affiche le texte de ou des tweets nettoyer ayant la mention de la personne dedans\"\n",
    "    for i in range(0, len(pdTweetFiltre[\"mentions\"])):\n",
    "        liste_mention = pdTweetFiltre[\"mentions\"][i]\n",
    "        for j in range(0, len(liste_mention)):\n",
    "            mention_tab = liste_mention[j]\n",
    "            if mention == mention_tab :\n",
    "                print(pdTweetFiltre[\"Texte\"][i] + \"\\n\")\n",
    "\n",
    "tweet_mention(\"leonna_julie\")"
   ]
  },
  {
   "attachments": {},
   "cell_type": "markdown",
   "metadata": {},
   "source": [
    "Affichage des Utilisateurs utilisant un Hashtag spécifique :"
   ]
  },
  {
   "cell_type": "code",
   "execution_count": null,
   "metadata": {},
   "outputs": [],
   "source": [
    "def tweet_hashtags (hashtag):\n",
    "    \"\"\"fonction qui va afficher le ou les utilisateurs ayants utilisés le hastags dans leur tweet\"\"\"\n",
    "    for i in range(0, len(pdTweetFiltre[\"hashtags\"])):\n",
    "        liste_hashtags = pdTweetFiltre[\"hashtags\"][i]\n",
    "        for j in range(0, len(liste_hashtags)):\n",
    "            mention_tab = liste_hashtags[j]\n",
    "            if hashtag == mention_tab :\n",
    "                print(pdTweetFiltre[\"author\"][i])\n",
    "\n",
    "tweet_hashtags(\"versailles\")"
   ]
  },
  {
   "attachments": {},
   "cell_type": "markdown",
   "metadata": {},
   "source": [
    "Affichage des utilisateurs mentionnés dans les tweets d'un autre utilisateur :"
   ]
  },
  {
   "cell_type": "code",
   "execution_count": null,
   "metadata": {},
   "outputs": [],
   "source": [
    "def author_mention(author):\n",
    "    \"\"\"fonction qui affiche les mentions q'un utilisateur a fait dans ses tweets\"\"\"\n",
    "    liste_mention = 0\n",
    "    mention =[]\n",
    "    for i  in range(0, len(tweet_author(author))):\n",
    "        liste_mention = (tweet_author(author)[\"mentions\"][i])\n",
    "        if liste_mention != [None]:\n",
    "            for j in range(0,len(liste_mention)):\n",
    "                mention.append(liste_mention[j])\n",
    "    return set(mention)\n",
    "\n",
    "    \n",
    "\n",
    "\n",
    "author_mention(1339914264522461184)"
   ]
  },
  {
   "attachments": {},
   "cell_type": "markdown",
   "metadata": {},
   "source": [
    "<H4>Top K hashtags:</H4>\n",
    "\n",
    "On va lire dans le dataFrame qu'on a créé les différents hashtags présent.\n",
    "Pour chaque hashtags, si il est dans la liste des clés déja renseigné, on ajoute + 1 a la valeur de la clé. Sinon, on le rajoute dans la liste des clés et on l'initialise à 1.\n",
    "\n",
    "On va ensuite obtenir les valeurs les plus grandes du dictionnaire avec la fonction max. Si la valeur est représenté plusieurs fois (2ième exaquo) on montrera toutes les valeurs qui correpondent au maximum."
   ]
  },
  {
   "attachments": {},
   "cell_type": "markdown",
   "metadata": {},
   "source": [
    "Les données sont organisées de la même manière pour les mentions et les url. On peut donc créer une fonction qui prend 3 arguments: k qui correspond le nombre de valeurs à afficher, source qui est le dataframe duquel on va afficher le classement et entities qui est une variable pour faire le choix entre mentions, hashtags et topics."
   ]
  },
  {
   "cell_type": "code",
   "execution_count": null,
   "metadata": {},
   "outputs": [],
   "source": [
    "def extraire_dict(entities:str, source:pd.DataFrame):\n",
    "    \"\"\"\n",
    "    Cette fonction permet d'extraire les donnnées du dataframe sous forme de dictionnaire.\n",
    "    On peut utiliser dans \"entities\" les arguments: Hashtags, mentions, author et topics.\n",
    "    Author est vu comme une exception car il n'est pas stocké de la même manière que les autres.\n",
    "    \"\"\"\n",
    "    dict_Entities = {}\n",
    "    series_Entities = source[entities]\n",
    "    if entities == \"author\":\n",
    "        dataFrame_Top = pd.DataFrame(series_Entities.value_counts())\n",
    "        dict_Entities = dataFrame_Top.to_dict()[\"author\"]\n",
    "    else:\n",
    "        for tweet in series_Entities:\n",
    "            for i in range(0, len(tweet)):\n",
    "                value = dict_Entities.get(tweet[i])\n",
    "                # Value représente le nombre de fois que le hashtags a déjà été lu dans le DataFrame.\n",
    "                # Si c'est la première fois qu'on le voit, value retourne None et donc on initialise à 1\n",
    "                if value != None:\n",
    "                    dict_Entities[tweet[i]] = value + 1\n",
    "                else:\n",
    "                    dict_Entities[tweet[i]] = 1\n",
    "        # On supprime la colonne qui montre les tweets sans hashtags\n",
    "        del dict_Entities[None]\n",
    "    return dict_Entities"
   ]
  },
  {
   "cell_type": "code",
   "execution_count": null,
   "metadata": {},
   "outputs": [],
   "source": [
    "def top(k:int, source:pd.DataFrame, entities:str):\n",
    "    \"\"\"\n",
    "    On prend dans source (qui doit être un data frame) le podium de l'entités demandé,\n",
    "    L'entité peut être les hashtags, les utilisateurs, les topics ou encore les mentions.\n",
    "    On réutilise la fonction créer avant pour obtenir le dictionnaire, puis on applique le trie\n",
    "    pour afficher le top.\n",
    "    \"\"\"\n",
    "    dict_Entities = extraire_dict(entities, source)\n",
    "    dict_Top = {}\n",
    "    # On veut le top k \n",
    "    for top in range(1, k + 1):\n",
    "        if dict_Entities.values().__len__() != 0:\n",
    "            dict_Top[top] = []\n",
    "            maxRepresenter = max(dict_Entities.values())\n",
    "            for key, values in dict_Entities.items():\n",
    "                if values == maxRepresenter:\n",
    "                    dict_Top[top].append(key)\n",
    "            for candidat in dict_Top[top]:\n",
    "                del dict_Entities[candidat]\n",
    "    dataFrame_Top = pd.DataFrame()\n",
    "    for top, hashtags in dict_Top.items():\n",
    "        # Pour éviter les problèmes de tailles de colonnes, on va créer un df éphémère à chaque fois\n",
    "        dfEphemere = pd.DataFrame()\n",
    "        dfEphemere[top] = pd.Series(hashtags)\n",
    "        # Puis on va le joindre à l'ancien df.\n",
    "        dataFrame_Top = pd.concat([dataFrame_Top, dfEphemere], join=\"outer\", axis=1)\n",
    "    return dataFrame_Top"
   ]
  },
  {
   "cell_type": "code",
   "execution_count": null,
   "metadata": {},
   "outputs": [],
   "source": [
    "top(3, pdTweetFiltre, \"hashtags\")"
   ]
  },
  {
   "attachments": {},
   "cell_type": "markdown",
   "metadata": {},
   "source": [
    "Pour obtenir le nombre de publication d'un utilisateur, le nombre de publications qui comporte un hashtags en particulier ou encore le nombre de publication par topics, on prend la fonction qui permet de nous donner un dictionnaire et on cherche dans ce dictionnaire la clé qu'il nous intéresse."
   ]
  },
  {
   "cell_type": "code",
   "execution_count": null,
   "metadata": {},
   "outputs": [],
   "source": [
    "def nbr_publi(name, source:pd.DataFrame, domaine:str):\n",
    "    \"\"\"\n",
    "    Fonction qui retourne le nombre de publication dans un domaine. Le domain peut-être soit author, soit hashtags, soit mentions.\n",
    "    La variable name définit soit l'id de l'utilisateur, soit le hashtags soit le nom du topic dans le cas d'une recherche \n",
    "    par topics.\n",
    "    \"\"\"\n",
    "    return extraire_dict(domaine, source).get(name)"
   ]
  },
  {
   "cell_type": "code",
   "execution_count": null,
   "metadata": {},
   "outputs": [],
   "source": [
    "nbr_publi(\"CIV\", pdTweetFiltre, domaine=\"hashtags\")"
   ]
  }
 ],
 "metadata": {
  "kernelspec": {
   "display_name": "base",
   "language": "python",
   "name": "python3"
  },
  "language_info": {
   "codemirror_mode": {
    "name": "ipython",
    "version": 3
   },
   "file_extension": ".py",
   "mimetype": "text/x-python",
   "name": "python",
   "nbconvert_exporter": "python",
   "pygments_lexer": "ipython3",
   "version": "3.9.12"
  },
  "orig_nbformat": 4,
  "vscode": {
   "interpreter": {
    "hash": "5be30189a774270b5e34f4c40225d15ce76cc760f7a67379782673adacaf8727"
   }
  }
 },
 "nbformat": 4,
 "nbformat_minor": 2
}
